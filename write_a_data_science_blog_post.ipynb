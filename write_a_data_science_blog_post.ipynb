{
 "cells": [
  {
   "cell_type": "markdown",
   "metadata": {},
   "source": [
    "# Business Understanding\n",
    "I looked Boston Airbnb's pricing data and asked the following questions.\n",
    "\n",
    "1. Is there a seasonality to prices?\n",
    "2. What rooms raised their prices during the event?\n",
    "3. What's the difference between high and low room?\n",
    "4. What is the difference of Boston and Seattle\n",
    "\n",
    "Use these datasets of calendar and listing.\n",
    "* Boston Airbnb\n",
    "  * https://www.kaggle.com/airbnb/boston\n",
    "* Seattle Airbnb\n",
    "  * https://www.kaggle.com/airbnb/seattle\n"
   ]
  },
  {
   "cell_type": "code",
   "execution_count": 1,
   "metadata": {},
   "outputs": [],
   "source": [
    "import pandas as pd\n",
    "import numpy as np\n",
    "from scipy import stats\n",
    "import matplotlib.pyplot as plt\n",
    "import seaborn as sns\n",
    "sns.set()\n",
    "\n",
    "from pandas.plotting import register_matplotlib_converters\n",
    "register_matplotlib_converters()"
   ]
  },
  {
   "cell_type": "markdown",
   "metadata": {},
   "source": [
    "# Data Understing"
   ]
  },
  {
   "cell_type": "code",
   "execution_count": 2,
   "metadata": {},
   "outputs": [],
   "source": [
    "def strip_dollar(string_num):\n",
    "    '''\n",
    "    convert price string with dollar notation to float like '$1,250'\n",
    "    Parameters\n",
    "    ----------\n",
    "    string_num: string\n",
    "        A numeric value written as a string.\n",
    "    Returns\n",
    "    -------\n",
    "    float_num: float\n",
    "        Converted from string to float\n",
    "    '''\n",
    "    if string_num == '':\n",
    "        return np.NaN\n",
    "    return np.float(string_num.replace('$', '').replace(',', ''))"
   ]
  },
  {
   "cell_type": "code",
   "execution_count": 3,
   "metadata": {},
   "outputs": [],
   "source": [
    "# Calendar\n",
    "seattle_cal = pd.read_csv('./data/seattle/calendar.csv',\n",
    "                          index_col='date', parse_dates=['date'],\n",
    "                          converters={'price': strip_dollar})\n",
    "boston_cal = pd.read_csv('./data/boston/calendar.csv',\n",
    "                         index_col='date', parse_dates=['date'],\n",
    "                         converters={'price': strip_dollar})\n",
    "# Listings\n",
    "seattle_list = pd.read_csv('./data/seattle/listings.csv',\n",
    "                           converters={'price': strip_dollar})\n",
    "boston_list = pd.read_csv('./data/boston/listings.csv',\n",
    "                          converters={'price': strip_dollar})"
   ]
  },
  {
   "cell_type": "markdown",
   "metadata": {},
   "source": [
    "## Calendar"
   ]
  },
  {
   "cell_type": "code",
   "execution_count": 4,
   "metadata": {},
   "outputs": [
    {
     "data": {
      "text/html": [
       "<div>\n",
       "<style scoped>\n",
       "    .dataframe tbody tr th:only-of-type {\n",
       "        vertical-align: middle;\n",
       "    }\n",
       "\n",
       "    .dataframe tbody tr th {\n",
       "        vertical-align: top;\n",
       "    }\n",
       "\n",
       "    .dataframe thead th {\n",
       "        text-align: right;\n",
       "    }\n",
       "</style>\n",
       "<table border=\"1\" class=\"dataframe\">\n",
       "  <thead>\n",
       "    <tr style=\"text-align: right;\">\n",
       "      <th></th>\n",
       "      <th>listing_id</th>\n",
       "      <th>available</th>\n",
       "      <th>price</th>\n",
       "    </tr>\n",
       "    <tr>\n",
       "      <th>date</th>\n",
       "      <th></th>\n",
       "      <th></th>\n",
       "      <th></th>\n",
       "    </tr>\n",
       "  </thead>\n",
       "  <tbody>\n",
       "    <tr>\n",
       "      <th>2017-09-05</th>\n",
       "      <td>12147973</td>\n",
       "      <td>f</td>\n",
       "      <td>NaN</td>\n",
       "    </tr>\n",
       "    <tr>\n",
       "      <th>2017-09-04</th>\n",
       "      <td>12147973</td>\n",
       "      <td>f</td>\n",
       "      <td>NaN</td>\n",
       "    </tr>\n",
       "    <tr>\n",
       "      <th>2017-09-03</th>\n",
       "      <td>12147973</td>\n",
       "      <td>f</td>\n",
       "      <td>NaN</td>\n",
       "    </tr>\n",
       "    <tr>\n",
       "      <th>2017-09-02</th>\n",
       "      <td>12147973</td>\n",
       "      <td>f</td>\n",
       "      <td>NaN</td>\n",
       "    </tr>\n",
       "    <tr>\n",
       "      <th>2017-09-01</th>\n",
       "      <td>12147973</td>\n",
       "      <td>f</td>\n",
       "      <td>NaN</td>\n",
       "    </tr>\n",
       "    <tr>\n",
       "      <th>...</th>\n",
       "      <td>...</td>\n",
       "      <td>...</td>\n",
       "      <td>...</td>\n",
       "    </tr>\n",
       "    <tr>\n",
       "      <th>2016-09-10</th>\n",
       "      <td>14504422</td>\n",
       "      <td>f</td>\n",
       "      <td>NaN</td>\n",
       "    </tr>\n",
       "    <tr>\n",
       "      <th>2016-09-09</th>\n",
       "      <td>14504422</td>\n",
       "      <td>f</td>\n",
       "      <td>NaN</td>\n",
       "    </tr>\n",
       "    <tr>\n",
       "      <th>2016-09-08</th>\n",
       "      <td>14504422</td>\n",
       "      <td>f</td>\n",
       "      <td>NaN</td>\n",
       "    </tr>\n",
       "    <tr>\n",
       "      <th>2016-09-07</th>\n",
       "      <td>14504422</td>\n",
       "      <td>f</td>\n",
       "      <td>NaN</td>\n",
       "    </tr>\n",
       "    <tr>\n",
       "      <th>2016-09-06</th>\n",
       "      <td>14504422</td>\n",
       "      <td>f</td>\n",
       "      <td>NaN</td>\n",
       "    </tr>\n",
       "  </tbody>\n",
       "</table>\n",
       "<p>1308890 rows × 3 columns</p>\n",
       "</div>"
      ],
      "text/plain": [
       "            listing_id available  price\n",
       "date                                   \n",
       "2017-09-05    12147973         f    NaN\n",
       "2017-09-04    12147973         f    NaN\n",
       "2017-09-03    12147973         f    NaN\n",
       "2017-09-02    12147973         f    NaN\n",
       "2017-09-01    12147973         f    NaN\n",
       "...                ...       ...    ...\n",
       "2016-09-10    14504422         f    NaN\n",
       "2016-09-09    14504422         f    NaN\n",
       "2016-09-08    14504422         f    NaN\n",
       "2016-09-07    14504422         f    NaN\n",
       "2016-09-06    14504422         f    NaN\n",
       "\n",
       "[1308890 rows x 3 columns]"
      ]
     },
     "execution_count": 4,
     "metadata": {},
     "output_type": "execute_result"
    }
   ],
   "source": [
    "boston_cal"
   ]
  },
  {
   "cell_type": "code",
   "execution_count": 5,
   "metadata": {},
   "outputs": [
    {
     "data": {
      "text/plain": [
       "array(['f', 't'], dtype=object)"
      ]
     },
     "execution_count": 5,
     "metadata": {},
     "output_type": "execute_result"
    }
   ],
   "source": [
    "# label of \"available\"\n",
    "boston_cal['available'].unique()"
   ]
  },
  {
   "cell_type": "code",
   "execution_count": 6,
   "metadata": {},
   "outputs": [
    {
     "data": {
      "text/html": [
       "<div>\n",
       "<style scoped>\n",
       "    .dataframe tbody tr th:only-of-type {\n",
       "        vertical-align: middle;\n",
       "    }\n",
       "\n",
       "    .dataframe tbody tr th {\n",
       "        vertical-align: top;\n",
       "    }\n",
       "\n",
       "    .dataframe thead th {\n",
       "        text-align: right;\n",
       "    }\n",
       "</style>\n",
       "<table border=\"1\" class=\"dataframe\">\n",
       "  <thead>\n",
       "    <tr style=\"text-align: right;\">\n",
       "      <th></th>\n",
       "      <th>listing_id</th>\n",
       "      <th>available</th>\n",
       "      <th>price</th>\n",
       "    </tr>\n",
       "    <tr>\n",
       "      <th>date</th>\n",
       "      <th></th>\n",
       "      <th></th>\n",
       "      <th></th>\n",
       "    </tr>\n",
       "  </thead>\n",
       "  <tbody>\n",
       "    <tr>\n",
       "      <th>2017-08-22</th>\n",
       "      <td>3075044</td>\n",
       "      <td>t</td>\n",
       "      <td>65.0</td>\n",
       "    </tr>\n",
       "    <tr>\n",
       "      <th>2017-08-21</th>\n",
       "      <td>3075044</td>\n",
       "      <td>t</td>\n",
       "      <td>65.0</td>\n",
       "    </tr>\n",
       "    <tr>\n",
       "      <th>2017-08-20</th>\n",
       "      <td>3075044</td>\n",
       "      <td>t</td>\n",
       "      <td>65.0</td>\n",
       "    </tr>\n",
       "    <tr>\n",
       "      <th>2017-08-19</th>\n",
       "      <td>3075044</td>\n",
       "      <td>t</td>\n",
       "      <td>75.0</td>\n",
       "    </tr>\n",
       "    <tr>\n",
       "      <th>2017-08-18</th>\n",
       "      <td>3075044</td>\n",
       "      <td>t</td>\n",
       "      <td>75.0</td>\n",
       "    </tr>\n",
       "    <tr>\n",
       "      <th>...</th>\n",
       "      <td>...</td>\n",
       "      <td>...</td>\n",
       "      <td>...</td>\n",
       "    </tr>\n",
       "    <tr>\n",
       "      <th>2016-09-20</th>\n",
       "      <td>14504422</td>\n",
       "      <td>t</td>\n",
       "      <td>62.0</td>\n",
       "    </tr>\n",
       "    <tr>\n",
       "      <th>2016-09-19</th>\n",
       "      <td>14504422</td>\n",
       "      <td>t</td>\n",
       "      <td>62.0</td>\n",
       "    </tr>\n",
       "    <tr>\n",
       "      <th>2016-09-18</th>\n",
       "      <td>14504422</td>\n",
       "      <td>t</td>\n",
       "      <td>62.0</td>\n",
       "    </tr>\n",
       "    <tr>\n",
       "      <th>2016-09-17</th>\n",
       "      <td>14504422</td>\n",
       "      <td>t</td>\n",
       "      <td>62.0</td>\n",
       "    </tr>\n",
       "    <tr>\n",
       "      <th>2016-09-16</th>\n",
       "      <td>14504422</td>\n",
       "      <td>t</td>\n",
       "      <td>62.0</td>\n",
       "    </tr>\n",
       "  </tbody>\n",
       "</table>\n",
       "<p>643037 rows × 3 columns</p>\n",
       "</div>"
      ],
      "text/plain": [
       "            listing_id available  price\n",
       "date                                   \n",
       "2017-08-22     3075044         t   65.0\n",
       "2017-08-21     3075044         t   65.0\n",
       "2017-08-20     3075044         t   65.0\n",
       "2017-08-19     3075044         t   75.0\n",
       "2017-08-18     3075044         t   75.0\n",
       "...                ...       ...    ...\n",
       "2016-09-20    14504422         t   62.0\n",
       "2016-09-19    14504422         t   62.0\n",
       "2016-09-18    14504422         t   62.0\n",
       "2016-09-17    14504422         t   62.0\n",
       "2016-09-16    14504422         t   62.0\n",
       "\n",
       "[643037 rows x 3 columns]"
      ]
     },
     "execution_count": 6,
     "metadata": {},
     "output_type": "execute_result"
    }
   ],
   "source": [
    "# available is \"t\"\n",
    "boston_cal[boston_cal['available'] == 't']"
   ]
  },
  {
   "cell_type": "code",
   "execution_count": 7,
   "metadata": {},
   "outputs": [],
   "source": [
    "boston_cal_t = boston_cal[boston_cal['available'] == 't']"
   ]
  },
  {
   "cell_type": "code",
   "execution_count": 8,
   "metadata": {},
   "outputs": [
    {
     "data": {
      "text/plain": [
       "0"
      ]
     },
     "execution_count": 8,
     "metadata": {},
     "output_type": "execute_result"
    }
   ],
   "source": [
    "# sum of price is null\n",
    "boston_cal_t['price'].isnull().sum()"
   ]
  },
  {
   "cell_type": "markdown",
   "metadata": {},
   "source": [
    "When \"available\" is \"t\", the dataset has \"price\", so I can get the price of available rooms.\n",
    "\n",
    "And It's a timeseriese dataset, if plot the price by time, I can see the price trends.\n",
    "\n",
    "There are no null value of price, when available."
   ]
  },
  {
   "cell_type": "markdown",
   "metadata": {},
   "source": [
    "## listings"
   ]
  },
  {
   "cell_type": "code",
   "execution_count": 9,
   "metadata": {},
   "outputs": [
    {
     "data": {
      "text/html": [
       "<div>\n",
       "<style scoped>\n",
       "    .dataframe tbody tr th:only-of-type {\n",
       "        vertical-align: middle;\n",
       "    }\n",
       "\n",
       "    .dataframe tbody tr th {\n",
       "        vertical-align: top;\n",
       "    }\n",
       "\n",
       "    .dataframe thead th {\n",
       "        text-align: right;\n",
       "    }\n",
       "</style>\n",
       "<table border=\"1\" class=\"dataframe\">\n",
       "  <thead>\n",
       "    <tr style=\"text-align: right;\">\n",
       "      <th></th>\n",
       "      <th>id</th>\n",
       "      <th>listing_url</th>\n",
       "      <th>scrape_id</th>\n",
       "      <th>last_scraped</th>\n",
       "      <th>name</th>\n",
       "      <th>summary</th>\n",
       "      <th>space</th>\n",
       "      <th>description</th>\n",
       "      <th>experiences_offered</th>\n",
       "      <th>neighborhood_overview</th>\n",
       "      <th>...</th>\n",
       "      <th>review_scores_value</th>\n",
       "      <th>requires_license</th>\n",
       "      <th>license</th>\n",
       "      <th>jurisdiction_names</th>\n",
       "      <th>instant_bookable</th>\n",
       "      <th>cancellation_policy</th>\n",
       "      <th>require_guest_profile_picture</th>\n",
       "      <th>require_guest_phone_verification</th>\n",
       "      <th>calculated_host_listings_count</th>\n",
       "      <th>reviews_per_month</th>\n",
       "    </tr>\n",
       "  </thead>\n",
       "  <tbody>\n",
       "    <tr>\n",
       "      <th>0</th>\n",
       "      <td>12147973</td>\n",
       "      <td>https://www.airbnb.com/rooms/12147973</td>\n",
       "      <td>20160906204935</td>\n",
       "      <td>2016-09-07</td>\n",
       "      <td>Sunny Bungalow in the City</td>\n",
       "      <td>Cozy, sunny, family home.  Master bedroom high...</td>\n",
       "      <td>The house has an open and cozy feel at the sam...</td>\n",
       "      <td>Cozy, sunny, family home.  Master bedroom high...</td>\n",
       "      <td>none</td>\n",
       "      <td>Roslindale is quiet, convenient and friendly. ...</td>\n",
       "      <td>...</td>\n",
       "      <td>NaN</td>\n",
       "      <td>f</td>\n",
       "      <td>NaN</td>\n",
       "      <td>NaN</td>\n",
       "      <td>f</td>\n",
       "      <td>moderate</td>\n",
       "      <td>f</td>\n",
       "      <td>f</td>\n",
       "      <td>1</td>\n",
       "      <td>NaN</td>\n",
       "    </tr>\n",
       "    <tr>\n",
       "      <th>1</th>\n",
       "      <td>3075044</td>\n",
       "      <td>https://www.airbnb.com/rooms/3075044</td>\n",
       "      <td>20160906204935</td>\n",
       "      <td>2016-09-07</td>\n",
       "      <td>Charming room in pet friendly apt</td>\n",
       "      <td>Charming and quiet room in a second floor 1910...</td>\n",
       "      <td>Small but cozy and quite room with a full size...</td>\n",
       "      <td>Charming and quiet room in a second floor 1910...</td>\n",
       "      <td>none</td>\n",
       "      <td>The room is in Roslindale, a diverse and prima...</td>\n",
       "      <td>...</td>\n",
       "      <td>9.0</td>\n",
       "      <td>f</td>\n",
       "      <td>NaN</td>\n",
       "      <td>NaN</td>\n",
       "      <td>t</td>\n",
       "      <td>moderate</td>\n",
       "      <td>f</td>\n",
       "      <td>f</td>\n",
       "      <td>1</td>\n",
       "      <td>1.30</td>\n",
       "    </tr>\n",
       "    <tr>\n",
       "      <th>2</th>\n",
       "      <td>6976</td>\n",
       "      <td>https://www.airbnb.com/rooms/6976</td>\n",
       "      <td>20160906204935</td>\n",
       "      <td>2016-09-07</td>\n",
       "      <td>Mexican Folk Art Haven in Boston</td>\n",
       "      <td>Come stay with a friendly, middle-aged guy in ...</td>\n",
       "      <td>Come stay with a friendly, middle-aged guy in ...</td>\n",
       "      <td>Come stay with a friendly, middle-aged guy in ...</td>\n",
       "      <td>none</td>\n",
       "      <td>The LOCATION: Roslindale is a safe and diverse...</td>\n",
       "      <td>...</td>\n",
       "      <td>10.0</td>\n",
       "      <td>f</td>\n",
       "      <td>NaN</td>\n",
       "      <td>NaN</td>\n",
       "      <td>f</td>\n",
       "      <td>moderate</td>\n",
       "      <td>t</td>\n",
       "      <td>f</td>\n",
       "      <td>1</td>\n",
       "      <td>0.47</td>\n",
       "    </tr>\n",
       "    <tr>\n",
       "      <th>3</th>\n",
       "      <td>1436513</td>\n",
       "      <td>https://www.airbnb.com/rooms/1436513</td>\n",
       "      <td>20160906204935</td>\n",
       "      <td>2016-09-07</td>\n",
       "      <td>Spacious Sunny Bedroom Suite in Historic Home</td>\n",
       "      <td>Come experience the comforts of home away from...</td>\n",
       "      <td>Most places you find in Boston are small howev...</td>\n",
       "      <td>Come experience the comforts of home away from...</td>\n",
       "      <td>none</td>\n",
       "      <td>Roslindale is a lovely little neighborhood loc...</td>\n",
       "      <td>...</td>\n",
       "      <td>10.0</td>\n",
       "      <td>f</td>\n",
       "      <td>NaN</td>\n",
       "      <td>NaN</td>\n",
       "      <td>f</td>\n",
       "      <td>moderate</td>\n",
       "      <td>f</td>\n",
       "      <td>f</td>\n",
       "      <td>1</td>\n",
       "      <td>1.00</td>\n",
       "    </tr>\n",
       "    <tr>\n",
       "      <th>4</th>\n",
       "      <td>7651065</td>\n",
       "      <td>https://www.airbnb.com/rooms/7651065</td>\n",
       "      <td>20160906204935</td>\n",
       "      <td>2016-09-07</td>\n",
       "      <td>Come Home to Boston</td>\n",
       "      <td>My comfy, clean and relaxing home is one block...</td>\n",
       "      <td>Clean, attractive, private room, one block fro...</td>\n",
       "      <td>My comfy, clean and relaxing home is one block...</td>\n",
       "      <td>none</td>\n",
       "      <td>I love the proximity to downtown, the neighbor...</td>\n",
       "      <td>...</td>\n",
       "      <td>10.0</td>\n",
       "      <td>f</td>\n",
       "      <td>NaN</td>\n",
       "      <td>NaN</td>\n",
       "      <td>f</td>\n",
       "      <td>flexible</td>\n",
       "      <td>f</td>\n",
       "      <td>f</td>\n",
       "      <td>1</td>\n",
       "      <td>2.25</td>\n",
       "    </tr>\n",
       "    <tr>\n",
       "      <th>...</th>\n",
       "      <td>...</td>\n",
       "      <td>...</td>\n",
       "      <td>...</td>\n",
       "      <td>...</td>\n",
       "      <td>...</td>\n",
       "      <td>...</td>\n",
       "      <td>...</td>\n",
       "      <td>...</td>\n",
       "      <td>...</td>\n",
       "      <td>...</td>\n",
       "      <td>...</td>\n",
       "      <td>...</td>\n",
       "      <td>...</td>\n",
       "      <td>...</td>\n",
       "      <td>...</td>\n",
       "      <td>...</td>\n",
       "      <td>...</td>\n",
       "      <td>...</td>\n",
       "      <td>...</td>\n",
       "      <td>...</td>\n",
       "      <td>...</td>\n",
       "    </tr>\n",
       "    <tr>\n",
       "      <th>3580</th>\n",
       "      <td>8373729</td>\n",
       "      <td>https://www.airbnb.com/rooms/8373729</td>\n",
       "      <td>20160906204935</td>\n",
       "      <td>2016-09-07</td>\n",
       "      <td>Big cozy room near T</td>\n",
       "      <td>5 min walking to Orange Line subway with 2 sto...</td>\n",
       "      <td>NaN</td>\n",
       "      <td>5 min walking to Orange Line subway with 2 sto...</td>\n",
       "      <td>none</td>\n",
       "      <td>NaN</td>\n",
       "      <td>...</td>\n",
       "      <td>9.0</td>\n",
       "      <td>f</td>\n",
       "      <td>NaN</td>\n",
       "      <td>NaN</td>\n",
       "      <td>t</td>\n",
       "      <td>strict</td>\n",
       "      <td>f</td>\n",
       "      <td>f</td>\n",
       "      <td>8</td>\n",
       "      <td>0.34</td>\n",
       "    </tr>\n",
       "    <tr>\n",
       "      <th>3581</th>\n",
       "      <td>14844274</td>\n",
       "      <td>https://www.airbnb.com/rooms/14844274</td>\n",
       "      <td>20160906204935</td>\n",
       "      <td>2016-09-07</td>\n",
       "      <td>BU Apartment DexterPark Bright room</td>\n",
       "      <td>Most popular apartment in BU, best located in ...</td>\n",
       "      <td>Best location in BU</td>\n",
       "      <td>Most popular apartment in BU, best located in ...</td>\n",
       "      <td>none</td>\n",
       "      <td>NaN</td>\n",
       "      <td>...</td>\n",
       "      <td>NaN</td>\n",
       "      <td>f</td>\n",
       "      <td>NaN</td>\n",
       "      <td>NaN</td>\n",
       "      <td>f</td>\n",
       "      <td>strict</td>\n",
       "      <td>f</td>\n",
       "      <td>f</td>\n",
       "      <td>2</td>\n",
       "      <td>NaN</td>\n",
       "    </tr>\n",
       "    <tr>\n",
       "      <th>3582</th>\n",
       "      <td>14585486</td>\n",
       "      <td>https://www.airbnb.com/rooms/14585486</td>\n",
       "      <td>20160906204935</td>\n",
       "      <td>2016-09-07</td>\n",
       "      <td>Gorgeous funky apartment</td>\n",
       "      <td>Funky little apartment close to public transpo...</td>\n",
       "      <td>Modern and relaxed space with many facilities ...</td>\n",
       "      <td>Funky little apartment close to public transpo...</td>\n",
       "      <td>none</td>\n",
       "      <td>Cambridge is a short walk into Boston, and set...</td>\n",
       "      <td>...</td>\n",
       "      <td>NaN</td>\n",
       "      <td>f</td>\n",
       "      <td>NaN</td>\n",
       "      <td>NaN</td>\n",
       "      <td>f</td>\n",
       "      <td>flexible</td>\n",
       "      <td>f</td>\n",
       "      <td>f</td>\n",
       "      <td>1</td>\n",
       "      <td>NaN</td>\n",
       "    </tr>\n",
       "    <tr>\n",
       "      <th>3583</th>\n",
       "      <td>14603878</td>\n",
       "      <td>https://www.airbnb.com/rooms/14603878</td>\n",
       "      <td>20160906204935</td>\n",
       "      <td>2016-09-07</td>\n",
       "      <td>Great Location; Train and Restaurants</td>\n",
       "      <td>My place is close to Taco Loco Mexican Grill, ...</td>\n",
       "      <td>NaN</td>\n",
       "      <td>My place is close to Taco Loco Mexican Grill, ...</td>\n",
       "      <td>none</td>\n",
       "      <td>NaN</td>\n",
       "      <td>...</td>\n",
       "      <td>7.0</td>\n",
       "      <td>f</td>\n",
       "      <td>NaN</td>\n",
       "      <td>NaN</td>\n",
       "      <td>f</td>\n",
       "      <td>strict</td>\n",
       "      <td>f</td>\n",
       "      <td>f</td>\n",
       "      <td>1</td>\n",
       "      <td>2.00</td>\n",
       "    </tr>\n",
       "    <tr>\n",
       "      <th>3584</th>\n",
       "      <td>14504422</td>\n",
       "      <td>https://www.airbnb.com/rooms/14504422</td>\n",
       "      <td>20160906204935</td>\n",
       "      <td>2016-09-07</td>\n",
       "      <td>(K1) Private Room near Harvard/MIT</td>\n",
       "      <td>My place is close to My home is a warm and fri...</td>\n",
       "      <td>To ensure a smooth check in: 1. You MUST have ...</td>\n",
       "      <td>My place is close to My home is a warm and fri...</td>\n",
       "      <td>none</td>\n",
       "      <td>NaN</td>\n",
       "      <td>...</td>\n",
       "      <td>NaN</td>\n",
       "      <td>f</td>\n",
       "      <td>NaN</td>\n",
       "      <td>NaN</td>\n",
       "      <td>t</td>\n",
       "      <td>flexible</td>\n",
       "      <td>f</td>\n",
       "      <td>f</td>\n",
       "      <td>3</td>\n",
       "      <td>NaN</td>\n",
       "    </tr>\n",
       "  </tbody>\n",
       "</table>\n",
       "<p>3585 rows × 95 columns</p>\n",
       "</div>"
      ],
      "text/plain": [
       "            id                            listing_url       scrape_id  \\\n",
       "0     12147973  https://www.airbnb.com/rooms/12147973  20160906204935   \n",
       "1      3075044   https://www.airbnb.com/rooms/3075044  20160906204935   \n",
       "2         6976      https://www.airbnb.com/rooms/6976  20160906204935   \n",
       "3      1436513   https://www.airbnb.com/rooms/1436513  20160906204935   \n",
       "4      7651065   https://www.airbnb.com/rooms/7651065  20160906204935   \n",
       "...        ...                                    ...             ...   \n",
       "3580   8373729   https://www.airbnb.com/rooms/8373729  20160906204935   \n",
       "3581  14844274  https://www.airbnb.com/rooms/14844274  20160906204935   \n",
       "3582  14585486  https://www.airbnb.com/rooms/14585486  20160906204935   \n",
       "3583  14603878  https://www.airbnb.com/rooms/14603878  20160906204935   \n",
       "3584  14504422  https://www.airbnb.com/rooms/14504422  20160906204935   \n",
       "\n",
       "     last_scraped                                           name  \\\n",
       "0      2016-09-07                     Sunny Bungalow in the City   \n",
       "1      2016-09-07              Charming room in pet friendly apt   \n",
       "2      2016-09-07               Mexican Folk Art Haven in Boston   \n",
       "3      2016-09-07  Spacious Sunny Bedroom Suite in Historic Home   \n",
       "4      2016-09-07                            Come Home to Boston   \n",
       "...           ...                                            ...   \n",
       "3580   2016-09-07                           Big cozy room near T   \n",
       "3581   2016-09-07            BU Apartment DexterPark Bright room   \n",
       "3582   2016-09-07                       Gorgeous funky apartment   \n",
       "3583   2016-09-07          Great Location; Train and Restaurants   \n",
       "3584   2016-09-07             (K1) Private Room near Harvard/MIT   \n",
       "\n",
       "                                                summary  \\\n",
       "0     Cozy, sunny, family home.  Master bedroom high...   \n",
       "1     Charming and quiet room in a second floor 1910...   \n",
       "2     Come stay with a friendly, middle-aged guy in ...   \n",
       "3     Come experience the comforts of home away from...   \n",
       "4     My comfy, clean and relaxing home is one block...   \n",
       "...                                                 ...   \n",
       "3580  5 min walking to Orange Line subway with 2 sto...   \n",
       "3581  Most popular apartment in BU, best located in ...   \n",
       "3582  Funky little apartment close to public transpo...   \n",
       "3583  My place is close to Taco Loco Mexican Grill, ...   \n",
       "3584  My place is close to My home is a warm and fri...   \n",
       "\n",
       "                                                  space  \\\n",
       "0     The house has an open and cozy feel at the sam...   \n",
       "1     Small but cozy and quite room with a full size...   \n",
       "2     Come stay with a friendly, middle-aged guy in ...   \n",
       "3     Most places you find in Boston are small howev...   \n",
       "4     Clean, attractive, private room, one block fro...   \n",
       "...                                                 ...   \n",
       "3580                                                NaN   \n",
       "3581                                Best location in BU   \n",
       "3582  Modern and relaxed space with many facilities ...   \n",
       "3583                                                NaN   \n",
       "3584  To ensure a smooth check in: 1. You MUST have ...   \n",
       "\n",
       "                                            description experiences_offered  \\\n",
       "0     Cozy, sunny, family home.  Master bedroom high...                none   \n",
       "1     Charming and quiet room in a second floor 1910...                none   \n",
       "2     Come stay with a friendly, middle-aged guy in ...                none   \n",
       "3     Come experience the comforts of home away from...                none   \n",
       "4     My comfy, clean and relaxing home is one block...                none   \n",
       "...                                                 ...                 ...   \n",
       "3580  5 min walking to Orange Line subway with 2 sto...                none   \n",
       "3581  Most popular apartment in BU, best located in ...                none   \n",
       "3582  Funky little apartment close to public transpo...                none   \n",
       "3583  My place is close to Taco Loco Mexican Grill, ...                none   \n",
       "3584  My place is close to My home is a warm and fri...                none   \n",
       "\n",
       "                                  neighborhood_overview  ...  \\\n",
       "0     Roslindale is quiet, convenient and friendly. ...  ...   \n",
       "1     The room is in Roslindale, a diverse and prima...  ...   \n",
       "2     The LOCATION: Roslindale is a safe and diverse...  ...   \n",
       "3     Roslindale is a lovely little neighborhood loc...  ...   \n",
       "4     I love the proximity to downtown, the neighbor...  ...   \n",
       "...                                                 ...  ...   \n",
       "3580                                                NaN  ...   \n",
       "3581                                                NaN  ...   \n",
       "3582  Cambridge is a short walk into Boston, and set...  ...   \n",
       "3583                                                NaN  ...   \n",
       "3584                                                NaN  ...   \n",
       "\n",
       "     review_scores_value requires_license license jurisdiction_names  \\\n",
       "0                    NaN                f     NaN                NaN   \n",
       "1                    9.0                f     NaN                NaN   \n",
       "2                   10.0                f     NaN                NaN   \n",
       "3                   10.0                f     NaN                NaN   \n",
       "4                   10.0                f     NaN                NaN   \n",
       "...                  ...              ...     ...                ...   \n",
       "3580                 9.0                f     NaN                NaN   \n",
       "3581                 NaN                f     NaN                NaN   \n",
       "3582                 NaN                f     NaN                NaN   \n",
       "3583                 7.0                f     NaN                NaN   \n",
       "3584                 NaN                f     NaN                NaN   \n",
       "\n",
       "     instant_bookable cancellation_policy require_guest_profile_picture  \\\n",
       "0                   f            moderate                             f   \n",
       "1                   t            moderate                             f   \n",
       "2                   f            moderate                             t   \n",
       "3                   f            moderate                             f   \n",
       "4                   f            flexible                             f   \n",
       "...               ...                 ...                           ...   \n",
       "3580                t              strict                             f   \n",
       "3581                f              strict                             f   \n",
       "3582                f            flexible                             f   \n",
       "3583                f              strict                             f   \n",
       "3584                t            flexible                             f   \n",
       "\n",
       "     require_guest_phone_verification calculated_host_listings_count  \\\n",
       "0                                   f                              1   \n",
       "1                                   f                              1   \n",
       "2                                   f                              1   \n",
       "3                                   f                              1   \n",
       "4                                   f                              1   \n",
       "...                               ...                            ...   \n",
       "3580                                f                              8   \n",
       "3581                                f                              2   \n",
       "3582                                f                              1   \n",
       "3583                                f                              1   \n",
       "3584                                f                              3   \n",
       "\n",
       "      reviews_per_month  \n",
       "0                   NaN  \n",
       "1                  1.30  \n",
       "2                  0.47  \n",
       "3                  1.00  \n",
       "4                  2.25  \n",
       "...                 ...  \n",
       "3580               0.34  \n",
       "3581                NaN  \n",
       "3582                NaN  \n",
       "3583               2.00  \n",
       "3584                NaN  \n",
       "\n",
       "[3585 rows x 95 columns]"
      ]
     },
     "execution_count": 9,
     "metadata": {},
     "output_type": "execute_result"
    }
   ],
   "source": [
    "boston_list"
   ]
  },
  {
   "cell_type": "code",
   "execution_count": 10,
   "metadata": {},
   "outputs": [
    {
     "data": {
      "text/plain": [
       "Index(['id', 'listing_url', 'scrape_id', 'last_scraped', 'name', 'summary',\n",
       "       'space', 'description', 'experiences_offered', 'neighborhood_overview',\n",
       "       'notes', 'transit', 'access', 'interaction', 'house_rules',\n",
       "       'thumbnail_url', 'medium_url', 'picture_url', 'xl_picture_url',\n",
       "       'host_id', 'host_url', 'host_name', 'host_since', 'host_location',\n",
       "       'host_about', 'host_response_time', 'host_response_rate',\n",
       "       'host_acceptance_rate', 'host_is_superhost', 'host_thumbnail_url',\n",
       "       'host_picture_url', 'host_neighbourhood', 'host_listings_count',\n",
       "       'host_total_listings_count', 'host_verifications',\n",
       "       'host_has_profile_pic', 'host_identity_verified', 'street',\n",
       "       'neighbourhood', 'neighbourhood_cleansed',\n",
       "       'neighbourhood_group_cleansed', 'city', 'state', 'zipcode', 'market',\n",
       "       'smart_location', 'country_code', 'country', 'latitude', 'longitude',\n",
       "       'is_location_exact', 'property_type', 'room_type', 'accommodates',\n",
       "       'bathrooms', 'bedrooms', 'beds', 'bed_type', 'amenities', 'square_feet',\n",
       "       'price', 'weekly_price', 'monthly_price', 'security_deposit',\n",
       "       'cleaning_fee', 'guests_included', 'extra_people', 'minimum_nights',\n",
       "       'maximum_nights', 'calendar_updated', 'has_availability',\n",
       "       'availability_30', 'availability_60', 'availability_90',\n",
       "       'availability_365', 'calendar_last_scraped', 'number_of_reviews',\n",
       "       'first_review', 'last_review', 'review_scores_rating',\n",
       "       'review_scores_accuracy', 'review_scores_cleanliness',\n",
       "       'review_scores_checkin', 'review_scores_communication',\n",
       "       'review_scores_location', 'review_scores_value', 'requires_license',\n",
       "       'license', 'jurisdiction_names', 'instant_bookable',\n",
       "       'cancellation_policy', 'require_guest_profile_picture',\n",
       "       'require_guest_phone_verification', 'calculated_host_listings_count',\n",
       "       'reviews_per_month'],\n",
       "      dtype='object')"
      ]
     },
     "execution_count": 10,
     "metadata": {},
     "output_type": "execute_result"
    }
   ],
   "source": [
    "boston_list.columns"
   ]
  },
  {
   "cell_type": "markdown",
   "metadata": {},
   "source": [
    "There are so many columns.\n",
    "\n",
    "In order to focus on price this time, I will extract columns that may be related to price.<br>\n",
    "\n",
    "The columns are:\n",
    "* 'property_type'\n",
    "* 'room_type'\n",
    "* 'accommodates'\n",
    "* 'bathrooms'\n",
    "* 'bedrooms'\n",
    "* 'beds'\n",
    "* 'price'"
   ]
  },
  {
   "cell_type": "code",
   "execution_count": 11,
   "metadata": {},
   "outputs": [
    {
     "name": "stdout",
     "output_type": "stream",
     "text": [
      "property_type: 3\n",
      "room_type    : 0\n",
      "accommodates : 0\n",
      "bathrooms    : 14\n",
      "bedrooms     : 10\n",
      "beds         : 9\n",
      "price        : 0\n"
     ]
    }
   ],
   "source": [
    "# null counts\n",
    "print('property_type:', boston_list['property_type'].isnull().sum())\n",
    "print('room_type    :', boston_list['room_type'].isnull().sum())\n",
    "print('accommodates :', boston_list['accommodates'].isnull().sum())\n",
    "print('bathrooms    :', boston_list['bathrooms'].isnull().sum())\n",
    "print('bedrooms     :', boston_list['bedrooms'].isnull().sum())\n",
    "print('beds         :', boston_list['beds'].isnull().sum())\n",
    "print('price        :', boston_list['price'].isnull().sum())"
   ]
  },
  {
   "cell_type": "markdown",
   "metadata": {},
   "source": [
    "Since there are few missing values, I ignore them."
   ]
  },
  {
   "cell_type": "markdown",
   "metadata": {},
   "source": [
    "## Prepare the Data"
   ]
  },
  {
   "cell_type": "code",
   "execution_count": 12,
   "metadata": {},
   "outputs": [],
   "source": [
    "# choose columns\n",
    "seattle_list = seattle_list[['id', 'property_type', 'room_type',\n",
    "                             'accommodates', 'bathrooms',\n",
    "                             'bedrooms', 'beds', 'price']]\n",
    "boston_list = boston_list[['id', 'property_type', 'room_type', 'accommodates',\n",
    "                           'bathrooms', 'bedrooms', 'beds', 'price']]"
   ]
  },
  {
   "cell_type": "code",
   "execution_count": 13,
   "metadata": {},
   "outputs": [],
   "source": [
    "# Calendar price\n",
    "boston_cal_price =\\\n",
    "    boston_cal[boston_cal['available'] == 't'][['listing_id', 'price']]\n",
    "seattle_cal_price =\\\n",
    "    seattle_cal[seattle_cal['available'] == 't'][['listing_id', 'price']]"
   ]
  },
  {
   "cell_type": "markdown",
   "metadata": {},
   "source": [
    "# Question 1: Is there a seasonality to prices? \n",
    "And when are they most expensive?"
   ]
  },
  {
   "cell_type": "markdown",
   "metadata": {},
   "source": [
    "# Boston Price Calendar\n",
    "Let's take a look at the day-to-day changes in the mean price of Boston"
   ]
  },
  {
   "cell_type": "code",
   "execution_count": 14,
   "metadata": {},
   "outputs": [],
   "source": [
    "boston_price_d = boston_cal_price['price'].resample('D')"
   ]
  },
  {
   "cell_type": "code",
   "execution_count": 15,
   "metadata": {},
   "outputs": [
    {
     "data": {
      "image/png": "[encoded data removed]",
      "text/plain": [
       "<Figure size 1152x648 with 1 Axes>"
      ]
     },
     "metadata": {},
     "output_type": "display_data"
    }
   ],
   "source": [
    "plt.figure(figsize=(16, 9))\n",
    "plt.title('Mean price of Boston')\n",
    "plt.plot(boston_price_d.mean(), label='mean price', color='tab:blue')\n",
    "ymin, ymax = plt.ylim()\n",
    "plt.ylim(0, ymax)\n",
    "plt.ylabel('Price[$]')\n",
    "plt.vlines('2017-04-15', 0, ymax, linestyle='--', color='tab:gray', alpha=0.5)\n",
    "plt.gca().annotate('2017-04-15', xy=('2017-04-16', 270))\n",
    "plt.legend()\n",
    "plt.show()"
   ]
  },
  {
   "cell_type": "markdown",
   "metadata": {},
   "source": [
    "## Observation of Boston price\n",
    "* Prices are dropping rapidly over 2017-01.\n",
    "* After that, there is a slow upward trend.\n",
    "* But, there are price peak around 2017-04-15~2017-04-17.\n",
    "* And, periodic small peaks are observed."
   ]
  },
  {
   "cell_type": "markdown",
   "metadata": {},
   "source": [
    "## About periodic peaks\n",
    "It's a weekly period of Fridy and Saturaday<br>\n",
    "It seems natural that weekend room rates would go up."
   ]
  },
  {
   "cell_type": "code",
   "execution_count": null,
   "metadata": {},
   "outputs": [],
   "source": [
    "plt.figure(figsize=(16, 9))\n",
    "boston_mean = boston_price_d.mean()\n",
    "plt.plot(boston_mean[boston_mean.index.weekday.isin([4, 5])],\n",
    "         marker='o', linewidth=0, color='tab:blue',\n",
    "         label='Friday and Saturaday')\n",
    "plt.plot(boston_mean, color='tab:blue', label='mean price')\n",
    "plt.legend()\n",
    "plt.ylim(0, ymax)\n",
    "plt.ylabel('Price[$]')\n",
    "plt.show()"
   ]
  },
  {
   "cell_type": "markdown",
   "metadata": {},
   "source": [
    "## What is the big peak at 2017-04\n",
    "I googled to see if there were any major events in Boston in April 2017.<br>\n",
    "Then I found Boston Marathon was held at April 17.<br>\n",
    "May be it's a cause of price peak of 2017-04-14 to 2017-04-16."
   ]
  },
  {
   "cell_type": "markdown",
   "metadata": {},
   "source": [
    "# Question 2: What rooms raised their prices during the event?\n",
    "I've found that prices go up depending on the event.<br>\n",
    "I wonder if all the rooms will have their prices increased, or just some of them."
   ]
  },
  {
   "cell_type": "code",
   "execution_count": null,
   "metadata": {},
   "outputs": [],
   "source": [
    "# max price during 2017-04-14 to 2017-04-17\n",
    "boston_cal_price_max =\\\n",
    "    boston_cal_price['2017-04-14':'2017-04-17'].groupby('listing_id').max()"
   ]
  },
  {
   "cell_type": "code",
   "execution_count": null,
   "metadata": {},
   "outputs": [],
   "source": [
    "# difference between listing price and calendar price\n",
    "boston_price_diff =\\\n",
    "    boston_cal_price_max.reset_index().merge(boston_list[['id', 'price']],\n",
    "                                             left_on='listing_id',\n",
    "                                             right_on='id',\n",
    "                                             suffixes=['_after', '_before'])\n",
    "boston_price_diff['diff'] =\\\n",
    "    boston_price_diff['price_after'] - boston_price_diff['price_before']"
   ]
  },
  {
   "cell_type": "markdown",
   "metadata": {},
   "source": [
    "## Mean price of listing and during event"
   ]
  },
  {
   "cell_type": "code",
   "execution_count": null,
   "metadata": {},
   "outputs": [],
   "source": [
    "plt.bar(['listing'], [boston_price_diff['price_before'].mean()])\n",
    "plt.bar(['on event'], [boston_price_diff['price_after'].mean()])\n",
    "plt.show()"
   ]
  },
  {
   "cell_type": "code",
   "execution_count": null,
   "metadata": {},
   "outputs": [],
   "source": [
    "boston_price_diff['price_before'].mean()"
   ]
  },
  {
   "cell_type": "code",
   "execution_count": null,
   "metadata": {},
   "outputs": [],
   "source": [
    "boston_price_diff['price_after'].mean()"
   ]
  },
  {
   "cell_type": "markdown",
   "metadata": {},
   "source": [
    "## Distribution of price"
   ]
  },
  {
   "cell_type": "code",
   "execution_count": null,
   "metadata": {},
   "outputs": [],
   "source": [
    "plt.figure(figsize=(16, 9))\n",
    "sns.distplot(boston_price_diff['price_before'], label='listing')\n",
    "sns.distplot(boston_price_diff['price_after'], label='on event')\n",
    "plt.legend()\n",
    "plt.show()"
   ]
  },
  {
   "cell_type": "markdown",
   "metadata": {},
   "source": [
    "It seems the higher price are increasing."
   ]
  },
  {
   "cell_type": "markdown",
   "metadata": {},
   "source": [
    "## Check the quartile"
   ]
  },
  {
   "cell_type": "code",
   "execution_count": null,
   "metadata": {},
   "outputs": [],
   "source": [
    "plt.figure(figsize=(16, 9))\n",
    "x_range = np.arange(0, 1, 0.05)\n",
    "plt.plot(x_range,\n",
    "         [boston_price_diff['price_before'].quantile(x) for x in x_range],\n",
    "         label='listing')\n",
    "plt.plot(x_range,\n",
    "         [boston_price_diff['price_after'].quantile(x) for x in x_range],\n",
    "         label='on event')\n",
    "plt.xlabel('quantile')\n",
    "plt.ylabel('price[$]')\n",
    "plt.legend()\n",
    "plt.show()"
   ]
  },
  {
   "cell_type": "markdown",
   "metadata": {},
   "source": [
    "The lower 50% of rooms have not increased in price significantly.<br>\n",
    "But, hte top 50%, especially the top 25%, are making big price gains."
   ]
  },
  {
   "cell_type": "markdown",
   "metadata": {},
   "source": [
    "## Price changes lower 50% and top 25%"
   ]
  },
  {
   "cell_type": "code",
   "execution_count": null,
   "metadata": {
    "scrolled": true
   },
   "outputs": [],
   "source": [
    "threshold_b = boston_price_diff['price_before'].quantile(0.5)\n",
    "threshold_a = boston_price_diff['price_after'].quantile(0.5)\n",
    "price_before = boston_price_diff['price_before']\n",
    "price_after = boston_price_diff['price_after']\n",
    "lower_before =\\\n",
    "    boston_price_diff[price_before < threshold_b]['price_before'].mean()\n",
    "lower_after =\\\n",
    "    boston_price_diff[price_after < threshold_a]['price_after'].mean()\n",
    "\n",
    "plt.title('Lower 50%')\n",
    "plt.bar(['listing'], [lower_before.mean()])\n",
    "plt.bar(['on event'], [lower_after.mean()])\n",
    "plt.show()"
   ]
  },
  {
   "cell_type": "code",
   "execution_count": null,
   "metadata": {},
   "outputs": [],
   "source": [
    "threshold_b = boston_price_diff['price_before'].quantile(0.75)\n",
    "threshold_a = boston_price_diff['price_after'].quantile(0.75)\n",
    "top_before = boston_price_diff[price_before > threshold_b]['price_before'].mean()\n",
    "top_after = boston_price_diff[price_after > threshold_a]['price_after'].mean()\n",
    "\n",
    "plt.title('Top 25%')\n",
    "plt.bar(['listing'], [top_before.mean()])\n",
    "plt.bar(['on event'], [top_after.mean()])\n",
    "plt.show()"
   ]
  },
  {
   "cell_type": "markdown",
   "metadata": {},
   "source": [
    "## Question 2 conclusion"
   ]
  },
  {
   "cell_type": "markdown",
   "metadata": {},
   "source": [
    "The price spike due to the event was in rooms with listing prices as high as $200 or more."
   ]
  },
  {
   "cell_type": "markdown",
   "metadata": {},
   "source": [
    "# Question 3: What's the difference between high and low room?\n",
    "Property type? num of beds? or other?"
   ]
  },
  {
   "cell_type": "code",
   "execution_count": null,
   "metadata": {},
   "outputs": [],
   "source": [
    "# bottom 25%\n",
    "boston_bottom =\\\n",
    "    boston_list[boston_list['price'] < boston_list['price'].quantile(0.25)]\n",
    "# top 25%\n",
    "boston_top =\\\n",
    "    boston_list[boston_list['price'] > boston_list['price'].quantile(0.75)]"
   ]
  },
  {
   "cell_type": "markdown",
   "metadata": {},
   "source": [
    "## Number of beds\n",
    "There are obviously more beds."
   ]
  },
  {
   "cell_type": "code",
   "execution_count": null,
   "metadata": {},
   "outputs": [],
   "source": [
    "plt.figure(figsize=(16, 6))\n",
    "ax1 = plt.subplot(121)\n",
    "ax1.set_title('bottom 25%')\n",
    "ax1.bar(boston_bottom['beds'].value_counts().index,\n",
    "        boston_bottom['beds'].value_counts().values, color='tab:blue')\n",
    "\n",
    "ax2 = plt.subplot(122)\n",
    "ax2.set_title('top 25%')\n",
    "ax2.bar(boston_top['beds'].value_counts().index,\n",
    "        boston_top['beds'].value_counts().values, color='tab:orange')\n",
    "plt.show()"
   ]
  },
  {
   "cell_type": "markdown",
   "metadata": {},
   "source": [
    "## Number of accomodates\n",
    "\"Accomodates\" is too."
   ]
  },
  {
   "cell_type": "code",
   "execution_count": null,
   "metadata": {},
   "outputs": [],
   "source": [
    "plt.figure(figsize=(16, 6))\n",
    "ax1 = plt.subplot(121)\n",
    "ax1.set_title('bottom 25%')\n",
    "ax1.bar(boston_bottom['accommodates'].value_counts().index,\n",
    "        boston_bottom['accommodates'].value_counts().values, color='tab:blue')\n",
    "\n",
    "ax2 = plt.subplot(122)\n",
    "ax2.set_title('top 25%')\n",
    "ax2.bar(boston_top['accommodates'].value_counts().index,\n",
    "        boston_top['accommodates'].value_counts().values, color='tab:orange')\n",
    "plt.show()"
   ]
  },
  {
   "cell_type": "markdown",
   "metadata": {},
   "source": [
    "## Top 5 of Property Type\n",
    "Top 3 are same, Apartment, House and Condominium."
   ]
  },
  {
   "cell_type": "code",
   "execution_count": null,
   "metadata": {},
   "outputs": [],
   "source": [
    "plt.figure(figsize=(16, 6))\n",
    "ax1 = plt.subplot(121)\n",
    "ax1.set_title('bottom 25%')\n",
    "ax1.bar(boston_bottom['property_type'].value_counts().index[:5],\n",
    "        boston_bottom['property_type'].value_counts().values[:5],\n",
    "        color='tab:blue')\n",
    "\n",
    "ax2 = plt.subplot(122)\n",
    "ax2.set_title('top 25%')\n",
    "ax2.bar(boston_top['property_type'].value_counts().index[:5],\n",
    "        boston_top['property_type'].value_counts().values[:5],\n",
    "        color='tab:orange')\n",
    "plt.show()"
   ]
  },
  {
   "cell_type": "markdown",
   "metadata": {},
   "source": [
    "## Room Type\n",
    "There are significant difference.<br>\n",
    "Bottom 25% rooms are mainly occupied by \"Private room\" but top 25% are \"Entire home/apt\"."
   ]
  },
  {
   "cell_type": "code",
   "execution_count": null,
   "metadata": {},
   "outputs": [],
   "source": [
    "plt.figure(figsize=(16, 6))\n",
    "ax1 = plt.subplot(121)\n",
    "ax1.set_title('bottom 25%')\n",
    "ax1.bar(boston_bottom['room_type'].value_counts().index,\n",
    "        boston_bottom['room_type'].value_counts().values,\n",
    "        color='tab:blue')\n",
    "\n",
    "ax2 = plt.subplot(122)\n",
    "ax2.set_title('top 25%')\n",
    "ax2.bar(boston_top['room_type'].value_counts().index,\n",
    "        boston_top['room_type'].value_counts().values,\n",
    "        color='tab:orange')\n",
    "plt.show()"
   ]
  },
  {
   "cell_type": "markdown",
   "metadata": {},
   "source": [
    "## Question 3 conclusion\n",
    "The difference in price was the size of the room.\n",
    "\n",
    "Top 25% rooms are mainly entire home/apt and have many beds, so it can accommodate a lot of people."
   ]
  },
  {
   "cell_type": "markdown",
   "metadata": {},
   "source": [
    "# Question 4: What is the difference of Boston and Seattle\n",
    "Is there a difference between Boston and Seattle, and if so, what is it?"
   ]
  },
  {
   "cell_type": "markdown",
   "metadata": {},
   "source": [
    "## Number of rooms\n",
    "It's almost same."
   ]
  },
  {
   "cell_type": "code",
   "execution_count": null,
   "metadata": {},
   "outputs": [],
   "source": [
    "print('Boston  :', boston_list.shape[0])\n",
    "print('Seattle :', seattle_list.shape[0])"
   ]
  },
  {
   "cell_type": "markdown",
   "metadata": {},
   "source": [
    "## Price\n",
    "Boston has more rooms over $100.\n",
    "\n",
    "Show only under $500."
   ]
  },
  {
   "cell_type": "code",
   "execution_count": null,
   "metadata": {},
   "outputs": [],
   "source": [
    "plt.figure(figsize=(16, 9))\n",
    "sns.distplot(boston_list[boston_list['price'] < 500]['price'],\n",
    "             label='Boston')\n",
    "sns.distplot(seattle_list[seattle_list['price'] < 500]['price'],\n",
    "             label='Seattle')\n",
    "plt.legend()\n",
    "plt.xlabel('Price[$]')\n",
    "plt.show()"
   ]
  },
  {
   "cell_type": "markdown",
   "metadata": {},
   "source": [
    "## What is the factor of the price\n",
    "The price difference in Boston was the size of the room. <br>\n",
    "So what is the reason for the difference between Boston and Seattle?"
   ]
  },
  {
   "cell_type": "markdown",
   "metadata": {},
   "source": [
    "## Room Type\n",
    "There are no difference betoween boston and seattle."
   ]
  },
  {
   "cell_type": "code",
   "execution_count": null,
   "metadata": {},
   "outputs": [],
   "source": [
    "plt.figure(figsize=(16, 6))\n",
    "ax1 = plt.subplot(121)\n",
    "ax1.set_title('Boston')\n",
    "ax1.bar(boston_list['room_type'].value_counts().index,\n",
    "        boston_list['room_type'].value_counts().values,\n",
    "        color='tab:blue')\n",
    "\n",
    "ax2 = plt.subplot(122)\n",
    "ax2.set_title('Seattle')\n",
    "ax2.bar(seattle_list['room_type'].value_counts().index,\n",
    "        seattle_list['room_type'].value_counts().values,\n",
    "        color='tab:orange')\n",
    "plt.show()"
   ]
  },
  {
   "cell_type": "markdown",
   "metadata": {},
   "source": [
    "## Number of accomodates\n",
    "There are no significant difference too."
   ]
  },
  {
   "cell_type": "code",
   "execution_count": null,
   "metadata": {},
   "outputs": [],
   "source": [
    "plt.figure(figsize=(16, 6))\n",
    "ax1 = plt.subplot(121)\n",
    "ax1.set_title('Boston')\n",
    "ax1.bar(boston_list['accommodates'].value_counts().index,\n",
    "        boston_list['accommodates'].value_counts().values,\n",
    "        color='tab:blue')\n",
    "\n",
    "ax2 = plt.subplot(122)\n",
    "ax2.set_title('Seattle')\n",
    "ax2.bar(seattle_list['accommodates'].value_counts().index,\n",
    "        seattle_list['accommodates'].value_counts().values,\n",
    "        color='tab:orange')\n",
    "plt.show()"
   ]
  },
  {
   "cell_type": "markdown",
   "metadata": {},
   "source": [
    "The size of the room does not seem to be related to the difference in price.<br>\n",
    "So what is the Factor?\n",
    "\n",
    "I think the original price of the house may be different.<br>\n",
    "So I decided to look up the price of the house, but I don't know how to do that since I am Japanese and don't live in the US.\n",
    "\n",
    "Therefore, I thought that if Boston is more urban than Seattle, the price of houses would be higher."
   ]
  },
  {
   "cell_type": "markdown",
   "metadata": {},
   "source": [
    "## Population and Density of Boston and Seattle\n",
    "It's from Wikipedia.\n",
    "\n",
    "[Boston]https://en.wikipedia.org/wiki/Boston\n",
    "\n",
    "[Seattle]https://en.wikipedia.org/wiki/Seattle"
   ]
  },
  {
   "cell_type": "code",
   "execution_count": null,
   "metadata": {},
   "outputs": [],
   "source": [
    "boston_pop = 617594\n",
    "boston_den = 5531.93\n",
    "seattle_pop = 608660\n",
    "seattle_den = 3464.55"
   ]
  },
  {
   "cell_type": "code",
   "execution_count": null,
   "metadata": {},
   "outputs": [],
   "source": [
    "plt.figure(figsize=(16, 6))\n",
    "ax1 = plt.subplot(121)\n",
    "ax1.set_title('Population')\n",
    "ax1.bar('Boston', boston_pop)\n",
    "ax1.bar('Seattle', seattle_pop)\n",
    "\n",
    "ax2 = plt.subplot(122)\n",
    "ax2.set_title('Density[/km2]')\n",
    "ax2.bar('Boston', boston_den)\n",
    "ax2.bar('Seattle', seattle_den)\n",
    "\n",
    "plt.show()"
   ]
  },
  {
   "cell_type": "markdown",
   "metadata": {},
   "source": [
    "Population is almost same, but Boston is more densely populated.<br>\n",
    "So that I think housing prices are higher in Boston."
   ]
  },
  {
   "cell_type": "markdown",
   "metadata": {},
   "source": [
    "# Question 4 conclusion\n",
    "It was not possible to find out the actual housing prices.<br>\n",
    "\n",
    "However, based on population density, Boston is considered to be more urban. \n",
    "\n",
    "Therefore, housing prices in Boston are expected to be higher."
   ]
  }
 ],
 "metadata": {
  "kernelspec": {
   "display_name": "Python 3",
   "language": "python",
   "name": "python3"
  },
  "language_info": {
   "codemirror_mode": {
    "name": "ipython",
    "version": 3
   },
   "file_extension": ".py",
   "mimetype": "text/x-python",
   "name": "python",
   "nbconvert_exporter": "python",
   "pygments_lexer": "ipython3",
   "version": "3.8.1"
  }
 },
 "nbformat": 4,
 "nbformat_minor": 5
}
